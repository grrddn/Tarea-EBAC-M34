{
 "cells": [
  {
   "cell_type": "code",
   "execution_count": null,
   "id": "072d2a7b",
   "metadata": {},
   "outputs": [],
   "source": [
    "a = 2\n",
    "b = 5\n",
    "\n",
    "print(\"el resultado es {}\".format(a + b))"
   ]
  }
 ],
 "metadata": {
  "language_info": {
   "name": "python"
  }
 },
 "nbformat": 4,
 "nbformat_minor": 5
}
